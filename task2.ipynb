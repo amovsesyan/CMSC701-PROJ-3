{
 "cells": [
  {
   "cell_type": "code",
   "execution_count": 5,
   "metadata": {},
   "outputs": [
    {
     "ename": "ImportError",
     "evalue": "dynamic module does not define module export function (PyInit_bbhash_table)",
     "output_type": "error",
     "traceback": [
      "\u001b[0;31m---------------------------------------------------------------------------\u001b[0m",
      "\u001b[0;31mImportError\u001b[0m                               Traceback (most recent call last)",
      "Cell \u001b[0;32mIn[5], line 2\u001b[0m\n\u001b[1;32m      1\u001b[0m \u001b[39mfrom\u001b[39;00m \u001b[39mcollections\u001b[39;00m \u001b[39mimport\u001b[39;00m defaultdict\n\u001b[0;32m----> 2\u001b[0m \u001b[39mfrom\u001b[39;00m \u001b[39mbbhash_table\u001b[39;00m \u001b[39mimport\u001b[39;00m BBHashTable\n\u001b[1;32m      3\u001b[0m \u001b[39mimport\u001b[39;00m \u001b[39mrandom\u001b[39;00m\n\u001b[1;32m      4\u001b[0m \u001b[39mimport\u001b[39;00m \u001b[39mtime\u001b[39;00m\n",
      "\u001b[0;31mImportError\u001b[0m: dynamic module does not define module export function (PyInit_bbhash_table)"
     ]
    }
   ],
   "source": [
    "from collections import defaultdict\n",
    "from bbhash_table import BBHashTable\n",
    "import random\n",
    "import time"
   ]
  },
  {
   "cell_type": "code",
   "execution_count": null,
   "metadata": {},
   "outputs": [],
   "source": [
    "max_set_sizes = [1000, 10000, 100000, 1000000, 1000000, 10000000, 100000000]\n",
    "sets_k = []\n",
    "sets_k_prime = []\n",
    "bloom_filters = []"
   ]
  },
  {
   "cell_type": "code",
   "execution_count": null,
   "metadata": {},
   "outputs": [],
   "source": [
    "\n",
    "# create the sets k and k'\n",
    "for set_size in max_set_sizes:\n",
    "    all_keys = [ random.uniform(-10000, 10000) for i in range(set_size)]\n",
    "    sets_k_prime.append(all_keys)\n",
    "    sets_k.append(all_keys[:(int(set_size * .5))])\n",
    "    print(\"finished set size \" + str(set_size))\n",
    "\n",
    "print(\"finished creating all sets\") "
   ]
  },
  {
   "cell_type": "code",
   "execution_count": null,
   "metadata": {},
   "outputs": [],
   "source": [
    "for i in range(len(max_set_sizes)):\n",
    "    max_set_size = max_set_sizes[i]\n",
    "    # print(\"set size: \" + str(set_size))\n",
    "    # creating bloom filter\n",
    "    bf: Bloom = Bloom(max_set_size, error_rate)\n",
    "    \n",
    "    # adding all the keys from set k\n",
    "    for key in sets_k[i]:\n",
    "        # print(key)\n",
    "        bf.add(key)\n",
    "    \n",
    "    for key in sets_k[i]:\n",
    "        assert key in bf\n",
    "    # print(\"finished adding keys to bf\")\n",
    "    # check number of keys from k' in bloom\n",
    "    num_pos = 0\n",
    "    start = time.time()\n",
    "    for key in sets_k_prime[i]:\n",
    "        if key in bf:\n",
    "            num_pos += 1\n",
    "    end = time.time()\n",
    "    time_elapsed = end - start\n",
    "            \n",
    "    num_false_pos = num_pos - len(sets_k[i])\n",
    "    print(str(error_rate) + \", \" + str(max_set_size) + \", \" + str(num_false_pos) + \", \" + str(time_elapsed) + \", \" + str(bf.size_in_bits))\n"
   ]
  }
 ],
 "metadata": {
  "kernelspec": {
   "display_name": "temp-env",
   "language": "python",
   "name": "python3"
  },
  "language_info": {
   "codemirror_mode": {
    "name": "ipython",
    "version": 3
   },
   "file_extension": ".py",
   "mimetype": "text/x-python",
   "name": "python",
   "nbconvert_exporter": "python",
   "pygments_lexer": "ipython3",
   "version": "3.8.16"
  },
  "orig_nbformat": 4
 },
 "nbformat": 4,
 "nbformat_minor": 2
}
