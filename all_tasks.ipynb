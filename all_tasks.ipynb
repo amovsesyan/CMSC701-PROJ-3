{
 "cells": [
  {
   "cell_type": "code",
   "execution_count": 1,
   "metadata": {},
   "outputs": [],
   "source": [
    "from collections import defaultdict\n",
    "import bbhash\n",
    "from bbhash_table import BBHashTable\n",
    "import random\n",
    "import time\n",
    "from rbloom import Bloom"
   ]
  },
  {
   "cell_type": "code",
   "execution_count": 2,
   "metadata": {},
   "outputs": [
    {
     "name": "stdout",
     "output_type": "stream",
     "text": [
      "[0.0078125, 0.00390625, 0.0009765625]\n"
     ]
    }
   ],
   "source": [
    "expected_error_rates = [pow(2, -7), pow(2,-8), pow(2, -10)]\n",
    "max_set_sizes = [1000, 10000, 100000, 1000000, 10000000]\n",
    "finger_print_bits = [7, 8, 10]\n",
    "print(expected_error_rates)\n",
    "sets_k = []\n",
    "sets_k_prime = []\n",
    "bloom_filters = []"
   ]
  },
  {
   "cell_type": "code",
   "execution_count": 3,
   "metadata": {},
   "outputs": [
    {
     "name": "stdout",
     "output_type": "stream",
     "text": [
      "finished set size 1000\n",
      "finished set size 10000\n",
      "finished set size 100000\n",
      "finished set size 1000000\n",
      "finished set size 10000000\n",
      "finished creating all sets\n"
     ]
    }
   ],
   "source": [
    "\n",
    "# create the sets k and k'\n",
    "for set_size in max_set_sizes:\n",
    "    all_keys = [random.randint(100, 10000000000) for i in range(set_size)]\n",
    "    sets_k_prime.append(all_keys)\n",
    "    sets_k.append(all_keys[:(int(set_size * .5))])\n",
    "    print(\"finished set size \" + str(set_size))\n",
    "\n",
    "print(\"finished creating all sets\") "
   ]
  },
  {
   "cell_type": "code",
   "execution_count": 4,
   "metadata": {},
   "outputs": [
    {
     "name": "stdout",
     "output_type": "stream",
     "text": [
      "error rate, set size, num false positives, time elapsed, size in bits of bf\n",
      "0.0078125, 500.0, 0, 0.0001552104949951172, 10104\n",
      "0.0078125, 5000.0, 1, 0.0013911724090576172, 100992\n",
      "0.0078125, 50000.0, 19, 0.014160871505737305, 1009888\n",
      "0.0078125, 500000.0, 124, 0.14825916290283203, 10098872\n",
      "0.0078125, 5000000.0, 3466, 2.243194580078125, 100988656\n",
      "0.00390625, 500.0, 0, 0.00014781951904296875, 11544\n",
      "0.00390625, 5000.0, 0, 0.001461029052734375, 115416\n",
      "0.00390625, 50000.0, 1, 0.014629840850830078, 1154160\n",
      "0.00390625, 500000.0, 45, 0.1555309295654297, 11541560\n",
      "0.00390625, 5000000.0, 2834, 2.4593703746795654, 115415608\n",
      "0.0009765625, 500.0, 0, 0.00015020370483398438, 14432\n",
      "0.0009765625, 5000.0, 0, 0.0015497207641601562, 144272\n",
      "0.0009765625, 50000.0, 0, 0.015507221221923828, 1442696\n",
      "0.0009765625, 500000.0, 28, 0.16610240936279297, 14426952\n",
      "0.0009765625, 5000000.0, 2581, 2.540933609008789, 144269504\n"
     ]
    }
   ],
   "source": [
    "# Task 1\n",
    "# create the bloom filters and fill them\n",
    "print(\"error rate, set size, num false positives, time elapsed, size in bits of bf\")\n",
    "for error_rate in expected_error_rates:\n",
    "    # print(\"error rate: \" + str(error_rate))\n",
    "    for i in range(len(max_set_sizes)):\n",
    "        max_set_size = max_set_sizes[i]\n",
    "        # print(\"set size: \" + str(set_size))\n",
    "        # creating bloom filter\n",
    "        bf: Bloom = Bloom(max_set_size, error_rate)\n",
    "        \n",
    "        # adding all the keys from set k\n",
    "        for key in sets_k[i]:\n",
    "            # print(key)\n",
    "            bf.add(key)\n",
    "        \n",
    "        for key in sets_k[i]:\n",
    "            assert key in bf\n",
    "        # print(\"finished adding keys to bf\")\n",
    "        # check number of keys from k' in bloom\n",
    "        num_pos = 0\n",
    "        start = time.time()\n",
    "        for key in sets_k_prime[i]:\n",
    "            if key in bf:\n",
    "                num_pos += 1\n",
    "        end = time.time()\n",
    "        time_elapsed = end - start\n",
    "                \n",
    "        num_false_pos = num_pos - len(sets_k[i])\n",
    "        print(str(error_rate) + \", \" + str(max_set_size / 2) + \", \" + str(num_false_pos) + \", \" + str(time_elapsed) + \", \" + str(bf.size_in_bits))\n",
    "\n",
    "\n"
   ]
  },
  {
   "cell_type": "code",
   "execution_count": 5,
   "metadata": {},
   "outputs": [
    {
     "name": "stdout",
     "output_type": "stream",
     "text": [
      "set size, num false positives, time elapsed, length of mhpf\n",
      "500.0, 0, 0.003194570541381836, 500\n",
      "5000.0, 0, 0.025622129440307617, 5000\n",
      "50000.0, 0, 0.2317214012145996, 50000\n",
      "500000.0, 26, 2.3670687675476074, 500000\n",
      "5000000.0, 2551, 24.392863988876343, 5000000\n"
     ]
    }
   ],
   "source": [
    "# Task 2\n",
    "print(\"set size, num false positives, time elapsed, length of mhpf\")\n",
    "for i in range(len(max_set_sizes)):\n",
    "    max_set_size = max_set_sizes[i]\n",
    "    # print(\"set size: \" + str(set_size))\n",
    "    # creating bloom filter\n",
    "    table = BBHashTable()\n",
    "    table.initialize(sets_k[i])\n",
    "    for key in sets_k[i]:\n",
    "        table[key] = 1    \n",
    "    # adding all the keys from set k\n",
    "    # for key in sets_k[i]:\n",
    "    #     # print(key)\n",
    "    #     bf.add(key)\n",
    "    \n",
    "    # for key in sets_k[i]:\n",
    "    #     assert key in bf\n",
    "    # print(\"finished adding keys to bf\")\n",
    "    # check number of keys from k' in bloom\n",
    "    num_pos = 0\n",
    "    start = time.time()\n",
    "    for key in sets_k_prime[i]:\n",
    "        if table[key] != None:\n",
    "            num_pos += 1\n",
    "    end = time.time()\n",
    "    time_elapsed = end - start\n",
    "            \n",
    "    num_false_pos = num_pos - len(sets_k[i])\n",
    "    print(str(max_set_size / 2) + \", \" + str(num_false_pos) + \", \" + str(time_elapsed) + \", \" + str(len(table)))\n"
   ]
  },
  {
   "cell_type": "code",
   "execution_count": 13,
   "metadata": {},
   "outputs": [
    {
     "name": "stdout",
     "output_type": "stream",
     "text": [
      "set size, num false positives, time elapsed, length of mhpf, length of fingerprint\n",
      "500.0, 0, 0.007142066955566406, 500, 500\n",
      "500.0, 0, 0.004495859146118164, 500, 500\n",
      "500.0, 0, 0.0036156177520751953, 500, 500\n",
      "5000.0, 0, 0.029165983200073242, 5000, 5000\n",
      "5000.0, 0, 0.02363443374633789, 5000, 5000\n",
      "5000.0, 0, 0.0238039493560791, 5000, 5000\n",
      "50000.0, 0, 0.25830888748168945, 50000, 49999\n",
      "50000.0, 0, 0.24827170372009277, 50000, 49999\n",
      "50000.0, 0, 0.24713444709777832, 50000, 49999\n",
      "500000.0, 26, 2.508324146270752, 500000, 499985\n",
      "500000.0, 26, 2.5027973651885986, 500000, 499985\n",
      "500000.0, 26, 2.5001986026763916, 500000, 499985\n",
      "5000000.0, 2551, 26.07827353477478, 5000000, 4998747\n",
      "5000000.0, 2551, 26.115541696548462, 5000000, 4998747\n",
      "5000000.0, 2551, 26.137831687927246, 5000000, 4998747\n"
     ]
    }
   ],
   "source": [
    "# Task 3\n",
    "print(\"set size, num false positives, time elapsed, length of mhpf, length of fingerprint\")\n",
    "for i in range(len(max_set_sizes)):\n",
    "    max_set_size = max_set_sizes[i]\n",
    "    # print(\"set size: \" + str(set_size))\n",
    "    # creating mphf\n",
    "    table = BBHashTable()\n",
    "    table.initialize(sets_k[i])\n",
    "    for key in sets_k[i]:\n",
    "        table[key] = 1    \n",
    "    for num_bits in finger_print_bits:\n",
    "        mod = 2 ** (num_bits)\n",
    "        finger_print = {}\n",
    "        for key in sets_k[i]:\n",
    "            finger_print[key] = (key % mod)\n",
    "        num_pos = 0\n",
    "        start = time.time()\n",
    "        for key in sets_k_prime[i]:\n",
    "            if (table[key] != None) and (finger_print[key] == (key % mod)):\n",
    "                num_pos += 1\n",
    "        end = time.time()\n",
    "        time_elapsed = end - start\n",
    "                \n",
    "        num_false_pos = num_pos - len(sets_k[i])\n",
    "        print(str(max_set_size / 2) + \", \" + str(num_false_pos) + \", \" + str(time_elapsed) + \", \" + str(len(table)) + \", \" + str(len(finger_print)))\n"
   ]
  }
 ],
 "metadata": {
  "kernelspec": {
   "display_name": "temp-env",
   "language": "python",
   "name": "python3"
  },
  "language_info": {
   "codemirror_mode": {
    "name": "ipython",
    "version": 3
   },
   "file_extension": ".py",
   "mimetype": "text/x-python",
   "name": "python",
   "nbconvert_exporter": "python",
   "pygments_lexer": "ipython3",
   "version": "3.9.16"
  },
  "orig_nbformat": 4
 },
 "nbformat": 4,
 "nbformat_minor": 2
}
