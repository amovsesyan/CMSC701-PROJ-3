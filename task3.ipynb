{
 "cells": [
  {
   "cell_type": "code",
   "execution_count": 10,
   "metadata": {},
   "outputs": [],
   "source": [
    "from collections import defaultdict\n",
    "import bbhash\n",
    "from bbhash_table import BBHashTable\n",
    "import random\n",
    "import time"
   ]
  },
  {
   "cell_type": "code",
   "execution_count": 11,
   "metadata": {},
   "outputs": [],
   "source": [
    "max_set_sizes = [1000, 10000, 100000, 1000000, 1000000, 10000000, 100000000]\n",
    "sets_k = []\n",
    "sets_k_prime = []\n",
    "bloom_filters = []"
   ]
  },
  {
   "cell_type": "code",
   "execution_count": 12,
   "metadata": {},
   "outputs": [
    {
     "name": "stdout",
     "output_type": "stream",
     "text": [
      "finished set size 1000\n",
      "finished set size 10000\n",
      "finished set size 100000\n",
      "finished set size 1000000\n",
      "finished set size 1000000\n",
      "finished set size 10000000\n",
      "finished set size 100000000\n",
      "finished creating all sets\n"
     ]
    }
   ],
   "source": [
    "\n",
    "# create the sets k and k'\n",
    "for set_size in max_set_sizes:\n",
    "    all_keys = [random.randint(100, 10000000000) for i in range(set_size)]\n",
    "    sets_k_prime.append(all_keys)\n",
    "    sets_k.append(all_keys[:(int(set_size * .5))])\n",
    "    print(\"finished set size \" + str(set_size))\n",
    "\n",
    "print(\"finished creating all sets\") "
   ]
  },
  {
   "cell_type": "code",
   "execution_count": 13,
   "metadata": {},
   "outputs": [
    {
     "name": "stdout",
     "output_type": "stream",
     "text": [
      "1000, 0, 0.003824472427368164\n",
      "10000, 0, 0.02601480484008789\n",
      "100000, 0, 0.23319292068481445\n",
      "1000000, 19, 2.3364524841308594\n",
      "1000000, 21, 2.287968635559082\n",
      "10000000, 2554, 24.13656711578369\n",
      "100000000, 249544, 255.2412497997284\n"
     ]
    }
   ],
   "source": [
    "for i in range(len(max_set_sizes)):\n",
    "    max_set_size = max_set_sizes[i]\n",
    "    # print(\"set size: \" + str(set_size))\n",
    "    # creating bloom filter\n",
    "    table = BBHashTable()\n",
    "    table.initialize(sets_k[i])\n",
    "    for key in sets_k[i]:\n",
    "        table[key] = 1    \n",
    "    # adding all the keys from set k\n",
    "    # for key in sets_k[i]:\n",
    "    #     # print(key)\n",
    "    #     bf.add(key)\n",
    "    \n",
    "    # for key in sets_k[i]:\n",
    "    #     assert key in bf\n",
    "    # print(\"finished adding keys to bf\")\n",
    "    # check number of keys from k' in bloom\n",
    "    num_pos = 0\n",
    "    start = time.time()\n",
    "    for key in sets_k_prime[i]:\n",
    "        if table[key] != None:\n",
    "            num_pos += 1\n",
    "    end = time.time()\n",
    "    time_elapsed = end - start\n",
    "            \n",
    "    num_false_pos = num_pos - len(sets_k[i])\n",
    "    print(str(max_set_size) + \", \" + str(num_false_pos) + \", \" + str(time_elapsed))\n"
   ]
  }
 ],
 "metadata": {
  "kernelspec": {
   "display_name": "temp-env",
   "language": "python",
   "name": "python3"
  },
  "language_info": {
   "codemirror_mode": {
    "name": "ipython",
    "version": 3
   },
   "file_extension": ".py",
   "mimetype": "text/x-python",
   "name": "python",
   "nbconvert_exporter": "python",
   "pygments_lexer": "ipython3",
   "version": "3.9.16"
  },
  "orig_nbformat": 4
 },
 "nbformat": 4,
 "nbformat_minor": 2
}
