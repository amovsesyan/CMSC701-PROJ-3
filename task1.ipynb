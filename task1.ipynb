{
 "cells": [
  {
   "cell_type": "code",
   "execution_count": 1,
   "metadata": {},
   "outputs": [],
   "source": [
    "from rbloom import Bloom\n",
    "import random\n",
    "import time"
   ]
  },
  {
   "cell_type": "code",
   "execution_count": 2,
   "metadata": {},
   "outputs": [
    {
     "name": "stdout",
     "output_type": "stream",
     "text": [
      "[0.0078125, 0.00390625, 0.0009765625]\n"
     ]
    }
   ],
   "source": [
    "expected_error_rates = [pow(2, -7), pow(2,-8), pow(2, -10)]\n",
    "max_set_sizes = [1000, 10000, 100000, 1000000, 1000000, 10000000, 100000000]\n",
    "print(expected_error_rates)\n",
    "sets_k = []\n",
    "sets_k_prime = []\n",
    "bloom_filters = []"
   ]
  },
  {
   "cell_type": "code",
   "execution_count": 3,
   "metadata": {},
   "outputs": [
    {
     "name": "stdout",
     "output_type": "stream",
     "text": [
      "finished set size 1000\n",
      "finished set size 10000\n",
      "finished set size 100000\n",
      "finished set size 1000000\n",
      "finished set size 1000000\n",
      "finished set size 10000000\n",
      "finished set size 100000000\n",
      "finished creating all sets\n"
     ]
    }
   ],
   "source": [
    "\n",
    "# create the sets k and k'\n",
    "for set_size in max_set_sizes:\n",
    "    all_keys = [random.randint(100, 10000000000) for i in range(set_size)]\n",
    "    sets_k_prime.append(all_keys)\n",
    "    sets_k.append(all_keys[:(int(set_size * .5))])\n",
    "    print(\"finished set size \" + str(set_size))\n",
    "\n",
    "print(\"finished creating all sets\") \n"
   ]
  },
  {
   "cell_type": "code",
   "execution_count": 4,
   "metadata": {},
   "outputs": [
    {
     "name": "stdout",
     "output_type": "stream",
     "text": [
      "error rate, set max size, num false positives, time elapsed, size in bits\n",
      "0.0078125, 1000, 0, 0.0001423358917236328, 10104\n",
      "0.0078125, 10000, 3, 0.001828908920288086, 100992\n",
      "0.0078125, 100000, 14, 0.01356363296508789, 1009888\n",
      "0.0078125, 1000000, 131, 0.14899158477783203, 10098872\n",
      "0.0078125, 1000000, 125, 0.14809322357177734, 10098872\n",
      "0.0078125, 10000000, 3446, 2.488699436187744, 100988656\n",
      "0.0078125, 100000000, 262866, 24.20875597000122, 1009886528\n",
      "0.00390625, 1000, 0, 0.00014495849609375, 11544\n",
      "0.00390625, 10000, 1, 0.0015616416931152344, 115416\n",
      "0.00390625, 100000, 4, 0.014924764633178711, 1154160\n",
      "0.00390625, 1000000, 40, 0.15428590774536133, 11541560\n",
      "0.00390625, 1000000, 69, 0.15661954879760742, 11541560\n",
      "0.00390625, 10000000, 2786, 2.3930866718292236, 115415608\n",
      "0.00390625, 100000000, 251899, 27.673853874206543, 1154156032\n",
      "0.0009765625, 1000, 0, 0.00014925003051757812, 14432\n",
      "0.0009765625, 10000, 0, 0.0015387535095214844, 144272\n",
      "0.0009765625, 100000, 0, 0.015549421310424805, 1442696\n",
      "0.0009765625, 1000000, 20, 0.1637723445892334, 14426952\n",
      "0.0009765625, 1000000, 29, 0.16453814506530762, 14426952\n",
      "0.0009765625, 10000000, 2557, 2.489217758178711, 144269504\n",
      "0.0009765625, 100000000, 249630, 28.605666875839233, 1442695040\n"
     ]
    }
   ],
   "source": [
    "\n",
    "# create the bloom filters and fill them\n",
    "print(\"error rate, set max size, num false positives, time elapsed, size in bits\")\n",
    "for error_rate in expected_error_rates:\n",
    "    # print(\"error rate: \" + str(error_rate))\n",
    "    for i in range(len(max_set_sizes)):\n",
    "        max_set_size = max_set_sizes[i]\n",
    "        # print(\"set size: \" + str(set_size))\n",
    "        # creating bloom filter\n",
    "        bf: Bloom = Bloom(max_set_size, error_rate)\n",
    "        \n",
    "        # adding all the keys from set k\n",
    "        for key in sets_k[i]:\n",
    "            # print(key)\n",
    "            bf.add(key)\n",
    "        \n",
    "        for key in sets_k[i]:\n",
    "            assert key in bf\n",
    "        # print(\"finished adding keys to bf\")\n",
    "        # check number of keys from k' in bloom\n",
    "        num_pos = 0\n",
    "        start = time.time()\n",
    "        for key in sets_k_prime[i]:\n",
    "            if key in bf:\n",
    "                num_pos += 1\n",
    "        end = time.time()\n",
    "        time_elapsed = end - start\n",
    "                \n",
    "        num_false_pos = num_pos - len(sets_k[i])\n",
    "        print(str(error_rate) + \", \" + str(max_set_size) + \", \" + str(num_false_pos) + \", \" + str(time_elapsed) + \", \" + str(bf.size_in_bits))\n",
    "\n",
    "\n"
   ]
  }
 ],
 "metadata": {
  "kernelspec": {
   "display_name": "temp-env",
   "language": "python",
   "name": "python3"
  },
  "language_info": {
   "codemirror_mode": {
    "name": "ipython",
    "version": 3
   },
   "file_extension": ".py",
   "mimetype": "text/x-python",
   "name": "python",
   "nbconvert_exporter": "python",
   "pygments_lexer": "ipython3",
   "version": "3.9.16"
  },
  "orig_nbformat": 4
 },
 "nbformat": 4,
 "nbformat_minor": 2
}
