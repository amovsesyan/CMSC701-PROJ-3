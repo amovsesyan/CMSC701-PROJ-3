{
 "cells": [
  {
   "cell_type": "code",
   "execution_count": 2,
   "metadata": {},
   "outputs": [],
   "source": [
    "from collections import defaultdict\n",
    "import bbhash\n",
    "from bbhash_table import BBHashTable\n",
    "import random\n",
    "import time\n",
    "from rbloom import Bloom"
   ]
  },
  {
   "cell_type": "code",
   "execution_count": 3,
   "metadata": {},
   "outputs": [
    {
     "name": "stdout",
     "output_type": "stream",
     "text": [
      "[0.0078125, 0.00390625, 0.0009765625]\n"
     ]
    }
   ],
   "source": [
    "expected_error_rates = [pow(2, -7), pow(2,-8), pow(2, -10)]\n",
    "max_set_sizes = [1000, 10000, 100000, 1000000, 10000000]\n",
    "finger_print_bits = [7, 8, 10]\n",
    "print(expected_error_rates)\n",
    "sets_k = []\n",
    "sets_k_prime = []\n",
    "bloom_filters = []"
   ]
  },
  {
   "cell_type": "code",
   "execution_count": 4,
   "metadata": {},
   "outputs": [
    {
     "name": "stdout",
     "output_type": "stream",
     "text": [
      "finished set size 1000\n",
      "finished set size 10000\n",
      "finished set size 100000\n",
      "finished set size 1000000\n",
      "finished set size 10000000\n",
      "finished creating all sets\n"
     ]
    }
   ],
   "source": [
    "\n",
    "# create the sets k and k'\n",
    "for set_size in max_set_sizes:\n",
    "    all_keys = [random.randint(100, 10000000000) for i in range(set_size)]\n",
    "    sets_k_prime.append(all_keys)\n",
    "    sets_k.append(all_keys[:(int(set_size * .5))])\n",
    "    print(\"finished set size \" + str(set_size))\n",
    "\n",
    "print(\"finished creating all sets\") "
   ]
  },
  {
   "cell_type": "code",
   "execution_count": 4,
   "metadata": {},
   "outputs": [
    {
     "name": "stdout",
     "output_type": "stream",
     "text": [
      "error rate, set size, num false positives, time elapsed, size in bits of bf\n",
      "0.0078125, 500.0, 0, 0.0001552104949951172, 10104\n",
      "0.0078125, 5000.0, 1, 0.0013911724090576172, 100992\n",
      "0.0078125, 50000.0, 19, 0.014160871505737305, 1009888\n",
      "0.0078125, 500000.0, 124, 0.14825916290283203, 10098872\n",
      "0.0078125, 5000000.0, 3466, 2.243194580078125, 100988656\n",
      "0.00390625, 500.0, 0, 0.00014781951904296875, 11544\n",
      "0.00390625, 5000.0, 0, 0.001461029052734375, 115416\n",
      "0.00390625, 50000.0, 1, 0.014629840850830078, 1154160\n",
      "0.00390625, 500000.0, 45, 0.1555309295654297, 11541560\n",
      "0.00390625, 5000000.0, 2834, 2.4593703746795654, 115415608\n",
      "0.0009765625, 500.0, 0, 0.00015020370483398438, 14432\n",
      "0.0009765625, 5000.0, 0, 0.0015497207641601562, 144272\n",
      "0.0009765625, 50000.0, 0, 0.015507221221923828, 1442696\n",
      "0.0009765625, 500000.0, 28, 0.16610240936279297, 14426952\n",
      "0.0009765625, 5000000.0, 2581, 2.540933609008789, 144269504\n"
     ]
    }
   ],
   "source": [
    "# Task 1\n",
    "# create the bloom filters and fill them\n",
    "print(\"error rate, set size, num false positives, time elapsed, size in bits of bf\")\n",
    "for error_rate in expected_error_rates:\n",
    "    # print(\"error rate: \" + str(error_rate))\n",
    "    for i in range(len(max_set_sizes)):\n",
    "        max_set_size = max_set_sizes[i]\n",
    "        # print(\"set size: \" + str(set_size))\n",
    "        # creating bloom filter\n",
    "        bf: Bloom = Bloom(max_set_size, error_rate)\n",
    "        \n",
    "        # adding all the keys from set k\n",
    "        for key in sets_k[i]:\n",
    "            # print(key)\n",
    "            bf.add(key)\n",
    "        \n",
    "        for key in sets_k[i]:\n",
    "            assert key in bf\n",
    "        # print(\"finished adding keys to bf\")\n",
    "        # check number of keys from k' in bloom\n",
    "        num_pos = 0\n",
    "        start = time.time()\n",
    "        for key in sets_k_prime[i]:\n",
    "            if key in bf:\n",
    "                num_pos += 1\n",
    "        end = time.time()\n",
    "        time_elapsed = end - start\n",
    "                \n",
    "        num_false_pos = num_pos - len(sets_k[i])\n",
    "        print(str(error_rate) + \", \" + str(max_set_size / 2) + \", \" + str(num_false_pos) + \", \" + str(time_elapsed) + \", \" + str(bf.size_in_bits))\n",
    "\n",
    "\n"
   ]
  },
  {
   "cell_type": "code",
   "execution_count": 5,
   "metadata": {},
   "outputs": [
    {
     "name": "stdout",
     "output_type": "stream",
     "text": [
      "set size, num false positives, time elapsed, length of mhpf\n",
      "500.0, 0, 0.003194570541381836, 500\n",
      "5000.0, 0, 0.025622129440307617, 5000\n",
      "50000.0, 0, 0.2317214012145996, 50000\n",
      "500000.0, 26, 2.3670687675476074, 500000\n",
      "5000000.0, 2551, 24.392863988876343, 5000000\n"
     ]
    }
   ],
   "source": [
    "# Task 2\n",
    "print(\"set size, num false positives, time elapsed, length of mhpf\")\n",
    "for i in range(len(max_set_sizes)):\n",
    "    max_set_size = max_set_sizes[i]\n",
    "    # print(\"set size: \" + str(set_size))\n",
    "    # creating bloom filter\n",
    "    table = BBHashTable()\n",
    "    table.initialize(sets_k[i])\n",
    "    for key in sets_k[i]:\n",
    "        table[key] = 1    \n",
    "    # adding all the keys from set k\n",
    "    # for key in sets_k[i]:\n",
    "    #     # print(key)\n",
    "    #     bf.add(key)\n",
    "    \n",
    "    # for key in sets_k[i]:\n",
    "    #     assert key in bf\n",
    "    # print(\"finished adding keys to bf\")\n",
    "    # check number of keys from k' in bloom\n",
    "    num_pos = 0\n",
    "    start = time.time()\n",
    "    for key in sets_k_prime[i]:\n",
    "        if table[key] != None:\n",
    "            num_pos += 1\n",
    "    end = time.time()\n",
    "    time_elapsed = end - start\n",
    "            \n",
    "    num_false_pos = num_pos - len(sets_k[i])\n",
    "    print(str(max_set_size / 2) + \", \" + str(num_false_pos) + \", \" + str(time_elapsed) + \", \" + str(len(table)))\n"
   ]
  },
  {
   "cell_type": "code",
   "execution_count": 7,
   "metadata": {},
   "outputs": [
    {
     "name": "stdout",
     "output_type": "stream",
     "text": [
      "set size, num false positives, time elapsed, length of fingerprint, bf size in bits, fingerprint num bits\n",
      "500.0, 4, 0.0004572868347167969, 500, 14432, 7\n",
      "500.0, 2, 0.00045108795166015625, 500, 14432, 8\n",
      "500.0, 1, 0.0004596710205078125, 500, 14432, 10\n",
      "5000.0, 24, 0.005210161209106445, 5000, 144272, 7\n",
      "5000.0, 11, 0.004811763763427734, 5000, 144272, 8\n",
      "5000.0, 1, 0.005042076110839844, 5000, 144272, 10\n",
      "50000.0, 218, 0.051125526428222656, 50000, 1442696, 7\n",
      "50000.0, 98, 0.051438331604003906, 50000, 1442696, 8\n",
      "50000.0, 25, 0.05370330810546875, 50000, 1442696, 10\n",
      "500000.0, 2128, 0.6032590866088867, 499989, 14426952, 7\n",
      "500000.0, 1091, 0.6040787696838379, 499989, 14426952, 8\n",
      "500000.0, 280, 0.6141047477722168, 499989, 14426952, 10\n",
      "5000000.0, 23434, 7.910686016082764, 4998815, 144269504, 7\n",
      "5000000.0, 13026, 7.867715835571289, 4998815, 144269504, 8\n",
      "5000000.0, 5192, 8.042538166046143, 4998815, 144269504, 10\n"
     ]
    }
   ],
   "source": [
    "# Task 3\n",
    "print(\"set size, num false positives, time elapsed, length of fingerprint, bf size in bits, fingerprint num bits\")\n",
    "for i in range(len(max_set_sizes)):\n",
    "    max_set_size = max_set_sizes[i]\n",
    "    # print(\"set size: \" + str(set_size))\n",
    "    # creating mphf\n",
    "    mph = bbhash.PyMPHF(sets_k[i], max_set_size, 1, 1.0)\n",
    "    bf: Bloom = Bloom(max_set_size, pow(2, -10))\n",
    "    for key in sets_k[i]:\n",
    "        bf.add(mph.lookup(key))    \n",
    "    for num_bits in finger_print_bits:\n",
    "        mod = 2 ** (num_bits)\n",
    "        finger_print = {}\n",
    "        for key in sets_k[i]:\n",
    "            finger_print[mph.lookup(key)] = (key % mod)\n",
    "        # print(finger_print)\n",
    "        num_pos = 0\n",
    "        start = time.time()\n",
    "        for key in sets_k_prime[i]:\n",
    "            if (mph.lookup(key) != None) and (mph.lookup(key) in bf) and (finger_print[mph.lookup(key)] == (key % mod)):\n",
    "                num_pos += 1\n",
    "        end = time.time()\n",
    "        time_elapsed = end - start\n",
    "                \n",
    "        num_false_pos = num_pos - len(sets_k[i])\n",
    "        print(str(max_set_size / 2) + \", \" + str(num_false_pos) + \", \" + str(time_elapsed) + \", \"  + str(len(finger_print)) + \", \" + str(bf.size_in_bits) + \", \" + str(num_bits))\n"
   ]
  }
 ],
 "metadata": {
  "kernelspec": {
   "display_name": "temp-env",
   "language": "python",
   "name": "python3"
  },
  "language_info": {
   "codemirror_mode": {
    "name": "ipython",
    "version": 3
   },
   "file_extension": ".py",
   "mimetype": "text/x-python",
   "name": "python",
   "nbconvert_exporter": "python",
   "pygments_lexer": "ipython3",
   "version": "3.9.16"
  },
  "orig_nbformat": 4
 },
 "nbformat": 4,
 "nbformat_minor": 2
}
